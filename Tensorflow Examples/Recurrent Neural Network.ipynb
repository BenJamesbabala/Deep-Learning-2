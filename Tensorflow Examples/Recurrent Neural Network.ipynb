{
 "cells": [
  {
   "cell_type": "code",
   "execution_count": 18,
   "metadata": {},
   "outputs": [
    {
     "data": {
      "text/html": [
       "<img src=\"https://cdn-images-1.medium.com/max/1600/1*UkI9za9zTR-HL8uM15Wmzw.png\"/>"
      ],
      "text/plain": [
       "<IPython.core.display.Image object>"
      ]
     },
     "execution_count": 18,
     "metadata": {},
     "output_type": "execute_result"
    }
   ],
   "source": [
    "#this function will help us in generating images which will help us in knowing what we are doing\n",
    "from IPython.display import Image\n",
    "#to get content from a web page we import HTML\n",
    "from IPython.core.display import HTML \n",
    "#bridge gap between python 2 and python 3\n",
    "from __future__ import print_function, division\n",
    "#generate some binary input data\n",
    "import numpy as np\n",
    "import tensorflow as tf\n",
    "#for plotting\n",
    "import matplotlib.pyplot as plt\n",
    "Image(url= \"https://cdn-images-1.medium.com/max/1600/1*UkI9za9zTR-HL8uM15Wmzw.png\")\n",
    "#shows that RNN that is learning over time and 3 squares are hidden states. Hidden layers in RNN changes over time because we not just feed the input data, we feed input and the previous hidden state data\n",
    "#so when we perform optimization(backpropogation) so it backprops through time and so it remembers what happened in the past."
   ]
  },
  {
   "cell_type": "code",
   "execution_count": 19,
   "metadata": {
    "collapsed": true
   },
   "outputs": [],
   "source": [
    "#hyperparams\n",
    "\n",
    "#number of times we want to train our network, inside epochs we have batches and it becomes a nested loop\n",
    "num_epochs = 10 #more epochs longer train time better prediction, so its basically a tradeoff between time, accuracy and computation.\n",
    "#how long sequence we want to generate\n",
    "total_series_length = 50000\n",
    "#this means that we are going to save portions of the sequence and we are going to discard the oldest values over time. Its similar to vanishing gradient problem, where we use keep_prob to keep certain part of network and drop rest of it while backpropogating.\n",
    "truncated_backprop_length = 15\n",
    "#number of neurons in our hidden layer, because we have 3 layer RNN that we are building and hidden state we are going to update over time.\n",
    "state_size = 4\n",
    "#since our data is binary and its not classification its sequence to sequence mapping. Classes: 0 and 1 so total:2\n",
    "num_classes = 2\n",
    "# to understand echo_step this might come in handy \n",
    "#https://stats.stackexchange.com/questions/140652/what-is-an-intuitive-explanation-of-echo-state-networks\n",
    "echo_step = 3\n",
    "#each time we consider window size of 5\n",
    "batch_size = 5\n",
    "#how many times we will have to iterate in order to train our model on complete 50000 sequence length\n",
    "#you can also consider truncate as strides in CNN, so we skip some part of network.\n",
    "num_batches = total_series_length//batch_size//truncated_backprop_length"
   ]
  },
  {
   "cell_type": "code",
   "execution_count": 20,
   "metadata": {},
   "outputs": [
    {
     "name": "stdout",
     "output_type": "stream",
     "text": [
      "(array([[0, 0, 0, ..., 1, 0, 0],\n",
      "       [0, 1, 0, ..., 0, 0, 0],\n",
      "       [0, 0, 1, ..., 1, 0, 0],\n",
      "       [0, 1, 0, ..., 0, 1, 0],\n",
      "       [1, 1, 1, ..., 1, 1, 1]]), array([[0, 0, 0, ..., 0, 0, 0],\n",
      "       [1, 0, 0, ..., 0, 1, 1],\n",
      "       [0, 0, 0, ..., 0, 0, 0],\n",
      "       [1, 0, 0, ..., 1, 1, 0],\n",
      "       [0, 1, 0, ..., 1, 0, 1]]))\n"
     ]
    }
   ],
   "source": [
    "#Step 1 - Collect data\n",
    "#Now generate the training data, \n",
    "#the input is basically a random binary vector. The output will be the \n",
    "#“echo” of the input, shifted echo_step steps to the right.\n",
    "#Lot of time we want to test out our Neural Networks but we do not want to test out on real world data so we generate data using numpy\n",
    "\n",
    "\n",
    "#Notice the reshaping of the data into a matrix with batch_size rows. \n",
    "#Neural networks are trained by approximating the gradient of loss function \n",
    "#with respect to the neuron-weights, by looking at only a small subset of the data, \n",
    "#also known as a mini-batch.The reshaping takes the whole dataset and puts it into \n",
    "#a matrix, that later will be sliced up into these mini-batches.\n",
    "\n",
    "def generateData():\n",
    "    #We generate a time series data, we generate 50k samples all binary.\n",
    "    #0,1, 50K samples, 50% chance each chosen\n",
    "    #2 means 2 class 0 and 1. total_series is the length of the series we defined earlier and the probability that each of the classes get picked is 50-50.\n",
    "    x = np.array(np.random.choice(2, total_series_length, p=[0.5, 0.5]))\n",
    "    #shift times series 3 steps to the right\n",
    "    # eg: x is 1-10 and echo_step is 3 so y will be 7 8 9 1 2 3 4 5 6 and in next step we pad the first 3 sequence with 0.\n",
    "    # y is exact same series shifted to the right by 3 steps.\n",
    "    y = np.roll(x, echo_step)\n",
    "    #padd beginning 3 values with 0\n",
    "    y[0:echo_step] = 0\n",
    "    #Gives a new shape to an array without changing its data.\n",
    "    #The reshaping takes the whole dataset and puts it into a matrix, \n",
    "    #that later will be sliced up into these mini-batches.\n",
    "    x = x.reshape((batch_size, -1))  # The first index changing slowest, subseries as rows\n",
    "    y = y.reshape((batch_size, -1))\n",
    "\n",
    "    return (x, y)\n",
    "#x and y are correlated with time.\n",
    "#the purpose of all this is toshows how memory is incorporated in RNN.\n",
    "data = generateData()\n",
    "\n",
    "print(data)"
   ]
  },
  {
   "cell_type": "code",
   "execution_count": 21,
   "metadata": {},
   "outputs": [
    {
     "data": {
      "text/html": [
       "<img src=\"https://cdn-images-1.medium.com/max/1600/1*aFtwuFsboLV8z5PkEzNLXA.png\"/>"
      ],
      "text/plain": [
       "<IPython.core.display.Image object>"
      ]
     },
     "execution_count": 21,
     "metadata": {},
     "output_type": "execute_result"
    }
   ],
   "source": [
    "#Schematic of the reshaped data-matrix, arrow curves shows adjacent time-steps that ended up on different rows. \n",
    "#Light-gray rectangle represent a “zero” and dark-gray a “one”.\n",
    "Image(url= \"https://cdn-images-1.medium.com/max/1600/1*aFtwuFsboLV8z5PkEzNLXA.png\")"
   ]
  },
  {
   "cell_type": "code",
   "execution_count": 22,
   "metadata": {
    "collapsed": true
   },
   "outputs": [],
   "source": [
    "#TensorFlow works by first building up a computational graph, that \n",
    "#specifies what operations will be done. The input and output of this graph\n",
    "#is typically multidimensional arrays, also known as tensors. \n",
    "#The graph, or parts of it can then be executed iteratively in a \n",
    "#session, this can either be done on the CPU, GPU or even a resource \n",
    "#on a remote server.\n",
    "\n",
    "#operations and tensors\n",
    "\n",
    "#The two basic TensorFlow data-structures that will be used in this \n",
    "#example are placeholders and variables. On each run the batch data \n",
    "#is fed to the placeholders, which are “starting nodes” of the \n",
    "#computational graph. Also the RNN-state is supplied in a placeholder, \n",
    "#which is saved from the output of the previous run.\n",
    "\n",
    "#point of reshaping tensor/array was so that we can feed it in to our placeholders which is a gateway through which data flows in to the tensorflow.\n",
    "\n",
    "\n",
    "#Step 2 - Build the Model\n",
    "\n",
    "#datatype, shape (5, 15) 2D array or matrix, batch size shape for later\n",
    "#shape of X and Y are 2 D matrix, float32 since it is 32 bit float.\n",
    "# we can consider echo to be a label, its a mapping between sequences.\n",
    "batchX_placeholder = tf.placeholder(tf.float32, [batch_size, truncated_backprop_length])\n",
    "batchY_placeholder = tf.placeholder(tf.int32, [batch_size, truncated_backprop_length])\n",
    "\n",
    "#and one for the RNN state, 5,4 \n",
    "#initialize the state, because we want to know what is happening in the memory portion of the hidden state.\n",
    "#we feed in the state every time not just feeding the input data at every iteration of training we are also feeding in previous hidden states that we learnt.\n",
    "#so this is the gateway for that hidden state.\n",
    "#in RNN we have placeholders not just for I/P data and labels but also for the state that it learnt before.\n",
    "#so its got a previous state and current state.\n",
    "#so shape of it is going to be batch_size and number of neurons that happened before hand.\n",
    "init_state = tf.placeholder(tf.float32, [batch_size, state_size])"
   ]
  },
  {
   "cell_type": "code",
   "execution_count": 23,
   "metadata": {
    "collapsed": true
   },
   "outputs": [],
   "source": [
    "#now we build our weights and biases as we have got our placeholders and we have defined our gateways, data is to ready to be fed in to the network.\n",
    "#since it is a 3 layer RNN, we have 2 sets of weights between I/P and hidden layer and hidden layer and O/P.\n",
    "#The weights and biases of the network are declared as TensorFlow variables,\n",
    "#which makes them persistent across runs and enables them to be updated\n",
    "#incrementally for each batch.\n",
    "\n",
    "#3 layer recurrent net, one hidden state\n",
    "\n",
    "#randomly initialize weights\n",
    "#as we know variables can be updated over time unlike constants and placeholders.\n",
    "#its better to initialize randomly than initializing as all zeros.\n",
    "W = tf.Variable(np.random.rand(state_size+1, state_size), dtype=tf.float32)\n",
    "#improves convergence, matrix of 0s\n",
    "#in terms of linear regression y = mx + b, in non-linear model it still offers that anchor point of convergence.\n",
    "#not that y intercept its just an anchor point so that the value we predict our not too far off from what it should be.\n",
    "b = tf.Variable(np.zeros((1,state_size)), dtype=tf.float32)\n",
    "\n",
    "W2 = tf.Variable(np.random.rand(state_size, num_classes),dtype=tf.float32)\n",
    "b2 = tf.Variable(np.zeros((1,num_classes)), dtype=tf.float32)"
   ]
  },
  {
   "cell_type": "code",
   "execution_count": 24,
   "metadata": {},
   "outputs": [
    {
     "data": {
      "text/html": [
       "<img src=\"https://cdn-images-1.medium.com/max/1600/1*n45uYnAfTDrBvG87J-poCA.jpeg\"/>"
      ],
      "text/plain": [
       "<IPython.core.display.Image object>"
      ]
     },
     "execution_count": 24,
     "metadata": {},
     "output_type": "execute_result"
    }
   ],
   "source": [
    "Image(url= \"https://cdn-images-1.medium.com/max/1600/1*n45uYnAfTDrBvG87J-poCA.jpeg\")\n",
    "#dotted square is looking at the batches."
   ]
  },
  {
   "cell_type": "code",
   "execution_count": 25,
   "metadata": {
    "collapsed": true
   },
   "outputs": [],
   "source": [
    "#Now it’s time to build the part of the graph that resembles the actual RNN computation, \n",
    "#first we want to split the batch data into adjacent time-steps.\n",
    "\n",
    "# Unstack columns\n",
    "#Unstacks the given dimension of a rank-R tensor into rank-(R-1) tensors.\n",
    "#so a bunch of arrays, 1 batch per time step\n",
    "#we unstack the columns so that we can feed it in our array.\n",
    "#it unstacks the columns in to a set of lists and each of these lists are going to be fed in, remember matrix 1's and 0's we just want 1 array at a time.\n",
    "#unstack matrix in to a 1D array both for I/P and O/P series.\n",
    "inputs_series = tf.unstack(batchX_placeholder, axis=1)\n",
    "labels_series = tf.unstack(batchY_placeholder, axis=1)"
   ]
  },
  {
   "cell_type": "code",
   "execution_count": 26,
   "metadata": {},
   "outputs": [
    {
     "data": {
      "text/html": [
       "<img src=\"https://cdn-images-1.medium.com/max/1600/1*f2iL4zOkBUBGOpVE7kyajg.png\"/>"
      ],
      "text/plain": [
       "<IPython.core.display.Image object>"
      ]
     },
     "execution_count": 26,
     "metadata": {},
     "output_type": "execute_result"
    }
   ],
   "source": [
    "Image(url= \"https://cdn-images-1.medium.com/max/1600/1*f2iL4zOkBUBGOpVE7kyajg.png\")\n",
    "#Schematic of the current batch split into columns, the order index is shown on each data-point \n",
    "#and arrows show adjacent time-steps."
   ]
  },
  {
   "cell_type": "code",
   "execution_count": 27,
   "metadata": {
    "collapsed": true
   },
   "outputs": [],
   "source": [
    "#Forward pass\n",
    "#here we learn about memory and how it is incorporated in RNN.\n",
    "#update placeholders over time, we can do this in our computation graph but we are going to do this before.\n",
    "#state placeholder\n",
    "#we define our curren state of hidden layer\n",
    "current_state = init_state\n",
    "# track series of states through time and store in this array\n",
    "# this is how we remember the states we store in memory in an array.\n",
    "states_series = []\n",
    "\n",
    "\n",
    "#for each set of inputs\n",
    "#forward pass through the network to get new state value\n",
    "#store all states in memory\n",
    "#for current input in input series for all inputs that we have defined before hand we are going to take the current I/P and we are going to feed it through the network.\n",
    "for current_input in inputs_series:\n",
    "    #format input, reshape it so that its in a shape that our RNN accepts, reshape cirrent_input in to batch_sie * 1.\n",
    "    current_input = tf.reshape(current_input, [batch_size, 1])\n",
    "    #mix both state and input data \n",
    "    input_and_state_concatenated = tf.concat([current_input, current_state],1)  # Increasing number of columns\n",
    "    #before squashing the data with a non-linearity we perform matrix multiplication between weights and input, add bias\n",
    "    #squash with a nonlinearity, for probabiolity value\n",
    "    #tanh is mostly prefered in RNN, sigmoids are great for generating O/P probabilities. They are mostly seen at the end whether in CNN or RNN as it helps in describing our O/P probability.\n",
    "    #sigmoid takes time to converge and tanh is faster.\n",
    "    next_state = tf.tanh(tf.matmul(input_and_state_concatenated, W) + b)  # Broadcasted addition\n",
    "    #now we append the list with the next state value and store the state in memory\n",
    "    #so this list is going to be filled with sequence of learned hidden states. This is the memory aspect of RNN.\n",
    "    #we are remembering each step through time.\n",
    "    #remember every hidden state value and its not just it remembers it and throws them in to space, but it stores them in a list, stores them in to memory data structure.\n",
    "    states_series.append(next_state)\n",
    "    #then we set current state to next one\n",
    "    #if you recall data structure and and algorithm this is very similar to linked list, where we set set head or current_pointer node to the current node's next part. Its logic is similar to that.\n",
    "    current_state = next_state"
   ]
  },
  {
   "cell_type": "code",
   "execution_count": 28,
   "metadata": {},
   "outputs": [
    {
     "data": {
      "text/html": [
       "<img src=\"https://cdn-images-1.medium.com/max/1600/1*fdwNNJ5UOE3Sx0R_Cyfmyg.png\"/>"
      ],
      "text/plain": [
       "<IPython.core.display.Image object>"
      ]
     },
     "execution_count": 28,
     "metadata": {},
     "output_type": "execute_result"
    }
   ],
   "source": [
    "Image(url= \"https://cdn-images-1.medium.com/max/1600/1*fdwNNJ5UOE3Sx0R_Cyfmyg.png\")\n",
    "#concatenation occurs through matrix multiplication operation, then we multiply it by weights and add bias before squashing the input with a non linearity and we get a next state.\n",
    "#we store all these states over time."
   ]
  },
  {
   "cell_type": "code",
   "execution_count": 29,
   "metadata": {
    "collapsed": true
   },
   "outputs": [],
   "source": [
    "#calculate loss\n",
    "#second part of forward pass\n",
    "#logits short for logistic transform\n",
    "#its outputs values that we are going to squash at very end with a softmax which is going to give us a prediction.\n",
    "logits_series = [tf.matmul(state, W2) + b2 for state in states_series] #Broadcasted addition\n",
    "#apply softmax nonlinearity for output probability, prediction_series is the ending non-linearity, basically list of all our predictions over time. \n",
    "predictions_series = [tf.nn.softmax(logits) for logits in logits_series]\n",
    "\n",
    "#measure loss, calculate softmax again on logits, then compute cross entropy\n",
    "#measures the difference between two probability distributions and that difference we have to minimise\n",
    "#this will return A Tensor of the same shape as labels and of the same type as logits \n",
    "#with the softmax cross entropy loss.\n",
    "#In our example the classes are mutually exclusive (they are either zero or one), \n",
    "#which is the reason for using the “Sparse-softmax”.\n",
    "losses = [tf.nn.sparse_softmax_cross_entropy_with_logits(logits=logits, labels=labels) for logits, labels in zip(logits_series,labels_series)]\n",
    "#computes average, gives one value which is total loss after 1 forward pass that we want to minimise.\n",
    "total_loss = tf.reduce_mean(losses)\n",
    "#use adagrad to minimize with 0.3 learning rate\n",
    "#minimize it with adagrad, not SGD\n",
    "#One downside of SGD is that it is sensitive to\n",
    "#the learning rate hyper-parameter. When the data are sparse and features have\n",
    "#different frequencies, a single learning rate for every weight update can have\n",
    "#exponential regret.\n",
    "#sometimes features that are very important and for some reason our Neural Network does not weigh them properly.\n",
    "#because it uses same learning rate across all features, may be because its sparse data, but sometimes sparse features can also be very important to us.\n",
    "#Some features can be extremely useful and informative to an optimization problem but \n",
    "#they may not show up in most of the training instances or data. If, when they do show up, \n",
    "#they are weighted equally in terms of learning rate as a feature that has shown up hundreds \n",
    "#of times we are practically saying that the influence of such features means nothing in the \n",
    "#overall optimization. it's impact per step in the stochastic gradient descent will be so small \n",
    "#that it can practically be discounted). To counter this, AdaGrad makes it such that features \n",
    "#that are more sparse in the data have a higher learning rate which translates into a larger \n",
    "#update for that feature\n",
    "#sparse features can be very useful.\n",
    "#Each feature has a different learning rate which is adaptable. \n",
    "#gives voice to the little guy who matters a lot\n",
    "#weights that receive high gradients will have their effective learning rate reduced, \n",
    "#while weights that receive small or infrequent updates will have their effective learning rate increased. \n",
    "#great paper http://seed.ucsd.edu/mediawiki/images/6/6a/Adagrad.pdf\n",
    "train_step = tf.train.AdagradOptimizer(0.3).minimize(total_loss)"
   ]
  },
  {
   "cell_type": "code",
   "execution_count": 30,
   "metadata": {
    "collapsed": true
   },
   "outputs": [],
   "source": [
    "#visualizer\n",
    "#plots training input, training output and current predictions of our network.\n",
    "def plot(loss_list, predictions_series, batchX, batchY):\n",
    "    plt.subplot(2, 3, 1)\n",
    "    plt.cla()\n",
    "    plt.plot(loss_list)\n",
    "\n",
    "    for batch_series_idx in range(5):\n",
    "        one_hot_output_series = np.array(predictions_series)[:, batch_series_idx, :]\n",
    "        single_output_series = np.array([(1 if out[0] < 0.5 else 0) for out in one_hot_output_series])\n",
    "\n",
    "        plt.subplot(2, 3, batch_series_idx + 2)\n",
    "        plt.cla()\n",
    "        plt.axis([0, truncated_backprop_length, 0, 2])\n",
    "        left_offset = range(truncated_backprop_length)\n",
    "        plt.bar(left_offset, batchX[batch_series_idx, :], width=1, color=\"blue\")\n",
    "        plt.bar(left_offset, batchY[batch_series_idx, :] * 0.5, width=1, color=\"red\")\n",
    "        plt.bar(left_offset, single_output_series * 0.3, width=1, color=\"green\")\n",
    "\n",
    "    plt.draw()\n",
    "    plt.pause(0.0001)"
   ]
  },
  {
   "cell_type": "code",
   "execution_count": 31,
   "metadata": {},
   "outputs": [
    {
     "name": "stdout",
     "output_type": "stream",
     "text": [
      "WARNING:tensorflow:From /home/adityasharma101993/.local/lib/python2.7/site-packages/tensorflow/python/util/tf_should_use.py:170: initialize_all_variables (from tensorflow.python.ops.variables) is deprecated and will be removed after 2017-03-02.\n",
      "Instructions for updating:\n",
      "Use `tf.global_variables_initializer` instead.\n"
     ]
    },
    {
     "data": {
      "text/plain": [
       "<matplotlib.figure.Figure at 0x7f72303cd690>"
      ]
     },
     "metadata": {},
     "output_type": "display_data"
    },
    {
     "name": "stdout",
     "output_type": "stream",
     "text": [
      "New data, epoch 0\n",
      "Step 0 Loss 0.904281\n",
      "Step 100 Loss 0.575372\n",
      "Step 200 Loss 0.0231487\n",
      "Step 300 Loss 0.00871894\n",
      "Step 400 Loss 0.00549712\n",
      "Step 500 Loss 0.00396285\n",
      "Step 600 Loss 0.00318456\n",
      "New data, epoch 1\n",
      "Step 0 Loss 0.201201\n",
      "Step 100 Loss 0.00286406\n",
      "Step 200 Loss 0.00390953\n",
      "Step 300 Loss 0.00260404\n",
      "Step 400 Loss 0.00210368\n",
      "Step 500 Loss 0.00166749\n",
      "Step 600 Loss 0.00143025\n",
      "New data, epoch 2\n",
      "Step 0 Loss 0.263851\n",
      "Step 100 Loss 0.00148293\n",
      "Step 200 Loss 0.0012379\n",
      "Step 300 Loss 0.00113345\n",
      "Step 400 Loss 0.000945695\n",
      "Step 500 Loss 0.000888742\n",
      "Step 600 Loss 0.000914599\n",
      "New data, epoch 3\n",
      "Step 0 Loss 0.275884\n",
      "Step 100 Loss 0.000916197\n",
      "Step 200 Loss 0.000917977\n",
      "Step 300 Loss 0.000744618\n",
      "Step 400 Loss 0.000842856\n",
      "Step 500 Loss 0.000650454\n",
      "Step 600 Loss 0.000657852\n",
      "New data, epoch 4\n",
      "Step 0 Loss 0.372089\n",
      "Step 100 Loss 0.000758856\n",
      "Step 200 Loss 0.000594098\n",
      "Step 300 Loss 0.000622839\n",
      "Step 400 Loss 0.000553201\n",
      "Step 500 Loss 0.000504755\n",
      "Step 600 Loss 0.000504445\n",
      "New data, epoch 5\n",
      "Step 0 Loss 0.257277\n",
      "Step 100 Loss 0.000735187\n",
      "Step 200 Loss 0.000655945\n",
      "Step 300 Loss 0.00055129\n",
      "Step 400 Loss 0.00043218\n",
      "Step 500 Loss 0.00046929\n",
      "Step 600 Loss 0.000576804\n",
      "New data, epoch 6\n",
      "Step 0 Loss 0.474051\n",
      "Step 100 Loss 0.000469293\n",
      "Step 200 Loss 0.000398074\n",
      "Step 300 Loss 0.000322763\n",
      "Step 400 Loss 0.000385143\n",
      "Step 500 Loss 0.000399841\n",
      "Step 600 Loss 0.000276602\n",
      "New data, epoch 7\n",
      "Step 0 Loss 0.185037\n",
      "Step 100 Loss 0.000413142\n",
      "Step 200 Loss 0.000319075\n",
      "Step 300 Loss 0.000300056\n",
      "Step 400 Loss 0.000469373\n",
      "Step 500 Loss 0.00030029\n",
      "Step 600 Loss 0.00033566\n",
      "New data, epoch 8\n",
      "Step 0 Loss 0.296082\n",
      "Step 100 Loss 0.00034987\n",
      "Step 200 Loss 0.000320536\n",
      "Step 300 Loss 0.000324132\n",
      "Step 400 Loss 0.000288542\n",
      "Step 500 Loss 0.000341838\n",
      "Step 600 Loss 0.000266748\n",
      "New data, epoch 9\n",
      "Step 0 Loss 0.127731\n",
      "Step 100 Loss 0.0002798\n",
      "Step 200 Loss 0.000268651\n",
      "Step 300 Loss 0.000252751\n",
      "Step 400 Loss 0.000272921\n",
      "Step 500 Loss 0.000223726\n",
      "Step 600 Loss 0.000294995\n"
     ]
    },
    {
     "data": {
      "image/png": "[encoded data removed]",
      "text/plain": [
       "<matplotlib.figure.Figure at 0x7f723c842590>"
      ]
     },
     "metadata": {},
     "output_type": "display_data"
    }
   ],
   "source": [
    "#Step 3 Training the network\n",
    "##this is a class that runs all the tensorflow operations and launches the graph in a session. \n",
    "#All the operations have to be within the indentation. \n",
    "with tf.Session() as sess:\n",
    "    sess.run(tf.initialize_all_variables())\n",
    "    #interactive mode\n",
    "    plt.ion()\n",
    "    #initialize the figure\n",
    "    plt.figure()\n",
    "    #show the graph\n",
    "    plt.show()\n",
    "    #to show the loss decrease over time\n",
    "    loss_list = []\n",
    "\n",
    "    for epoch_idx in range(num_epochs):\n",
    "        #generate data at every epoch, batches run in epochs\n",
    "        #output binary sequences will be a copy but shifted over echo.\n",
    "        x,y = generateData()\n",
    "        #initialize an empty hidden state\n",
    "        _current_state = np.zeros((batch_size, state_size))\n",
    "\n",
    "        print(\"New data, epoch\", epoch_idx)\n",
    "        #each batch\n",
    "        for batch_idx in range(num_batches):\n",
    "            #starting and ending point per batch\n",
    "            #since weights reoccur at every layer through time\n",
    "            #These layers will not be unrolled to the beginning of time, \n",
    "            #that would be too computationally expensive, and are therefore truncated \n",
    "            #at a limited number of time-steps\n",
    "            #so it remembers the most recent hidden state and not all previous states.\n",
    "            start_idx = batch_idx * truncated_backprop_length\n",
    "            end_idx = start_idx + truncated_backprop_length\n",
    "\n",
    "            batchX = x[:,start_idx:end_idx]\n",
    "            batchY = y[:,start_idx:end_idx]\n",
    "            \n",
    "            #run the computation graph, give it the values\n",
    "            #we calculated earlier\n",
    "            _total_loss, _train_step, _current_state, _predictions_series = sess.run(\n",
    "                [total_loss, train_step, current_state, predictions_series],\n",
    "                feed_dict={\n",
    "                    batchX_placeholder:batchX,\n",
    "                    batchY_placeholder:batchY,\n",
    "                    init_state:_current_state\n",
    "                })\n",
    "\n",
    "            loss_list.append(_total_loss)\n",
    "\n",
    "            if batch_idx%100 == 0:\n",
    "                print(\"Step\",batch_idx, \"Loss\", _total_loss)\n",
    "                plot(loss_list, _predictions_series, batchX, batchY)\n",
    "\n",
    "plt.ioff()\n",
    "plt.show()"
   ]
  },
  {
   "cell_type": "code",
   "execution_count": null,
   "metadata": {
    "collapsed": true
   },
   "outputs": [],
   "source": [
    "#Blue bars denote a training input signal (binary one), \n",
    "#red bars show echos in the training output \n",
    "#and green bars are the echos the net is generating. \n",
    "#The different bar plots show different sample series in the current batch."
   ]
  },
  {
   "cell_type": "code",
   "execution_count": 32,
   "metadata": {},
   "outputs": [
    {
     "data": {
      "text/html": [
       "<img src=\"https://cdn-images-1.medium.com/max/1600/1*uKuUKp_m55zAPCzaIemucA.png\"/>"
      ],
      "text/plain": [
       "<IPython.core.display.Image object>"
      ]
     },
     "execution_count": 32,
     "metadata": {},
     "output_type": "execute_result"
    }
   ],
   "source": [
    "Image(url= \"https://cdn-images-1.medium.com/max/1600/1*uKuUKp_m55zAPCzaIemucA.png\")\n",
    "#Time series of squares, the elevated black square symbolizes an echo-output, which is activated \n",
    "#three steps from the echo input (black square). \n",
    "#The sliding batch window is also striding three steps at each run, \n",
    "#which in our sample case means that no batch will encapsulate the dependency, so it can not train."
   ]
  },
  {
   "cell_type": "code",
   "execution_count": 33,
   "metadata": {},
   "outputs": [
    {
     "data": {
      "text/html": [
       "<img src=\"https://cdn-images-1.medium.com/max/1600/1*ytquMdmGMJo0-3kxMCi1Gg.png\"/>"
      ],
      "text/plain": [
       "<IPython.core.display.Image object>"
      ]
     },
     "execution_count": 33,
     "metadata": {},
     "output_type": "execute_result"
    }
   ],
   "source": [
    "Image(url= \"https://cdn-images-1.medium.com/max/1600/1*ytquMdmGMJo0-3kxMCi1Gg.png\")\n",
    "#Visualization of the loss, input and output training data (blue, red) as well as the prediction (green).\n",
    "#The reason for the spikes is that we are starting on a new epoch, \n",
    "#and generating new data. Since the matrix is reshaped, \n",
    "#the first element on each row is adjacent to the last element in the previous row. \n",
    "#The first few elements on all rows (except the first) have dependencies \n",
    "#that will not be included in the state, so the net will always perform badly on the first batch."
   ]
  },
  {
   "cell_type": "code",
   "execution_count": null,
   "metadata": {
    "collapsed": true
   },
   "outputs": [],
   "source": []
  }
 ],
 "metadata": {
  "kernelspec": {
   "display_name": "Python 2",
   "language": "python",
   "name": "python2"
  },
  "language_info": {
   "codemirror_mode": {
    "name": "ipython",
    "version": 2
   },
   "file_extension": ".py",
   "mimetype": "text/x-python",
   "name": "python",
   "nbconvert_exporter": "python",
   "pygments_lexer": "ipython2",
   "version": "2.7.12"
  }
 },
 "nbformat": 4,
 "nbformat_minor": 2
}
